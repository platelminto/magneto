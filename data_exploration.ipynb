{
 "cells": [
  {
   "cell_type": "code",
   "execution_count": 25,
   "metadata": {},
   "outputs": [],
   "source": [
    "import h5py\n",
    "import numpy as np\n",
    "\n",
    "from pathlib import Path\n"
   ]
  },
  {
   "cell_type": "code",
   "execution_count": 29,
   "metadata": {},
   "outputs": [
    {
     "data": {
      "text/plain": [
       "32"
      ]
     },
     "execution_count": 29,
     "metadata": {},
     "output_type": "execute_result"
    }
   ],
   "source": [
    "data_dir = Path(\"./data/\")\n",
    "assert data_dir.is_dir()\n",
    "intra_dir = data_dir / \"Intra\"\n",
    "cross_dir = data_dir / \"Cross\"\n",
    "intra_train_glob = list((intra_dir / \"train\").glob(\"*.h5\"))\n",
    "intra_test_glob = list((intra_dir / \"test\").glob(\"*.h5\"))\n",
    "len(intra_train_glob)"
   ]
  },
  {
   "cell_type": "code",
   "execution_count": 40,
   "metadata": {},
   "outputs": [],
   "source": [
    "def load_labels(path: Path) -> np.ndarray:\n",
    "    *task, subject_identifier, chunk = path.stem.split(\"_\")\n",
    "    if \"rest\" in task:\n",
    "        y = 0\n",
    "    elif 'math' in task:\n",
    "        y = 1\n",
    "    elif 'working' in task:\n",
    "        y = 2\n",
    "    elif 'motor' in task:\n",
    "        y = 3\n",
    "    else:\n",
    "        assert False, 'unknown task'\n",
    "    return np.array([y, int(subject_identifier), int(chunk)])"
   ]
  },
  {
   "cell_type": "code",
   "execution_count": 43,
   "metadata": {},
   "outputs": [
    {
     "data": {
      "text/plain": [
       "((32, 248, 35624), (32, 3))"
      ]
     },
     "execution_count": 43,
     "metadata": {},
     "output_type": "execute_result"
    }
   ],
   "source": [
    "def load_h5(path: Path) -> np.ndarray:\n",
    "    with h5py.File(path) as f:\n",
    "        keys = f.keys()\n",
    "        assert len(keys) == 1, f\"Only one key per file, right? {intra_train_glob[0]}\"\n",
    "        matrix = f.get(next(iter(keys)))[()]\n",
    "    return matrix\n",
    "\n",
    "\n",
    "intra_train_X = np.stack(list(map(load_h5, intra_train_glob)))\n",
    "intra_train_labels = np.stack(list(map(load_labels, intra_train_glob)))\n",
    "intra_train_X.shape, intra_train_labels.shape"
   ]
  },
  {
   "cell_type": "code",
   "execution_count": 42,
   "metadata": {},
   "outputs": [
    {
     "data": {
      "text/plain": [
       "((8, 248, 35624), (8, 3))"
      ]
     },
     "execution_count": 42,
     "metadata": {},
     "output_type": "execute_result"
    }
   ],
   "source": [
    "intra_test_X = np.stack(list(map(load_h5, intra_test_glob)))\n",
    "intra_test_labels = np.stack(list(map(load_labels, intra_test_glob)))\n",
    "intra_test_X.shape, intra_test_labels.shape"
   ]
  }
 ],
 "metadata": {
  "kernelspec": {
   "display_name": "pattern",
   "language": "python",
   "name": "python3"
  },
  "language_info": {
   "codemirror_mode": {
    "name": "ipython",
    "version": 3
   },
   "file_extension": ".py",
   "mimetype": "text/x-python",
   "name": "python",
   "nbconvert_exporter": "python",
   "pygments_lexer": "ipython3",
   "version": "3.10.13"
  }
 },
 "nbformat": 4,
 "nbformat_minor": 2
}
