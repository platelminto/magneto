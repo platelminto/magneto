{
 "cells": [
  {
   "cell_type": "markdown",
   "metadata": {},
   "source": [
    "## Data loading"
   ]
  },
  {
   "cell_type": "code",
   "execution_count": null,
   "metadata": {},
   "outputs": [],
   "source": [
    "import h5py\n",
    "import numpy as np\n",
    "\n",
    "from pathlib import Path\n"
   ]
  },
  {
   "cell_type": "code",
   "execution_count": 6,
   "metadata": {},
   "outputs": [
    {
     "data": {
      "text/plain": [
       "32"
      ]
     },
     "execution_count": 6,
     "metadata": {},
     "output_type": "execute_result"
    }
   ],
   "source": [
    "data_dir = Path(\"./data/\")\n",
    "assert data_dir.is_dir()\n",
    "intra_dir = data_dir / \"Intra\"\n",
    "cross_dir = data_dir / \"Cross\"\n",
    "intra_train_glob = list((intra_dir / \"train\").glob(\"*.h5\"))\n",
    "intra_test_glob = list((intra_dir / \"test\").glob(\"*.h5\"))\n",
    "len(intra_train_glob)"
   ]
  },
  {
   "cell_type": "code",
   "execution_count": 7,
   "metadata": {},
   "outputs": [],
   "source": [
    "def load_labels(path: Path) -> np.ndarray:\n",
    "    *task, subject_identifier, chunk = path.stem.split(\"_\")\n",
    "    if \"rest\" in task:\n",
    "        y = 0\n",
    "    elif 'math' in task:\n",
    "        y = 1\n",
    "    elif 'working' in task:\n",
    "        y = 2\n",
    "    elif 'motor' in task:\n",
    "        y = 3\n",
    "    else:\n",
    "        assert False, 'unknown task'\n",
    "    return np.array([y, int(subject_identifier), int(chunk)])"
   ]
  },
  {
   "cell_type": "code",
   "execution_count": 8,
   "metadata": {},
   "outputs": [
    {
     "data": {
      "text/plain": [
       "((32, 248, 35624), (32, 3))"
      ]
     },
     "execution_count": 8,
     "metadata": {},
     "output_type": "execute_result"
    }
   ],
   "source": [
    "def load_h5(path: Path) -> np.ndarray:\n",
    "    with h5py.File(path) as f:\n",
    "        keys = f.keys()\n",
    "        assert len(keys) == 1, f\"Only one key per file, right? {intra_train_glob[0]}\"\n",
    "        matrix = f.get(next(iter(keys)))[()]\n",
    "    return matrix\n",
    "\n",
    "\n",
    "intra_train_X = np.stack(list(map(load_h5, intra_train_glob)))\n",
    "intra_train_labels = np.stack(list(map(load_labels, intra_train_glob)))\n",
    "intra_train_X.shape, intra_train_labels.shape"
   ]
  },
  {
   "cell_type": "code",
   "execution_count": 9,
   "metadata": {},
   "outputs": [
    {
     "data": {
      "text/plain": [
       "((8, 248, 35624), (8, 3))"
      ]
     },
     "execution_count": 9,
     "metadata": {},
     "output_type": "execute_result"
    }
   ],
   "source": [
    "intra_test_X = np.stack(list(map(load_h5, intra_test_glob)))\n",
    "intra_test_labels = np.stack(list(map(load_labels, intra_test_glob)))\n",
    "intra_test_X.shape, intra_test_labels.shape"
   ]
  },
  {
   "cell_type": "markdown",
   "metadata": {},
   "source": [
    "## Data preprocessing"
   ]
  },
  {
   "cell_type": "code",
   "execution_count": null,
   "metadata": {},
   "outputs": [],
   "source": [
    "import torch\n",
    "import torch.nn as nn\n",
    "from torch.utils.data import DataLoader, TensorDataset\n",
    "from sklearn.model_selection import StratifiedKFold\n",
    "from sklearn.preprocessing import StandardScaler\n",
    "\n",
    "\n",
    "# Downsample data to 125Hz\n",
    "downsampled_X = torch.nn.functional.interpolate(torch.Tensor(X), scale_factor=125/2034, mode='linear')\n",
    "\n",
    "# Time-wise Z-score normalization\n",
    "scaler = torch.nn.functional.normalize \n",
    "scaled_X = torch.Tensor([scaler(x, dim=1) for x in downsampled_X.numpy()])\n",
    "\n",
    "\n",
    "# Apply spatial de-mixing (You need to implement your own spatial de-mixing)\n",
    "# This could involve reshaping the data, applying spatial filters, etc.\n",
    "pass\n",
    "\n",
    "# Convert data to PyTorch Dataset\n",
    "dataset = TensorDataset(torch.Tensor(scaled_X), torch.LongTensor(y))\n",
    "\n",
    "# K-fold cross-validation\n",
    "kf = StratifiedKFold(n_splits=5, shuffle=True, random_state=42)"
   ]
  },
  {
   "cell_type": "markdown",
   "metadata": {},
   "source": [
    "## VAR-CNN Architecture\n",
    "implemented from: https://www.ncbi.nlm.nih.gov/pmc/articles/PMC6609925/"
   ]
  },
  {
   "cell_type": "code",
   "execution_count": null,
   "metadata": {},
   "outputs": [],
   "source": [
    "# Model Architecture\n",
    "class YourModel(nn.Module):\n",
    "    def __init__(self, k):\n",
    "        super(YourModel, self).__init__()\n",
    "        # Define your layers here\n",
    "\n",
    "    def forward(self, x):\n",
    "        # Define the forward pass\n",
    "        return x\n",
    "\n",
    "# Instantiate your model\n",
    "model = YourModel(k=...)  # Specify the value of k\n"
   ]
  },
  {
   "cell_type": "markdown",
   "metadata": {},
   "source": [
    "## Training"
   ]
  },
  {
   "cell_type": "code",
   "execution_count": null,
   "metadata": {},
   "outputs": [],
   "source": [
    "# Training\n",
    "criterion = nn.CrossEntropyLoss()\n",
    "optimizer = torch.optim.Adam(model.parameters(), lr=3e-4)\n",
    "\n",
    "# Training loop and cross-validation\n",
    "for train_index, val_index in kf.split(scaled_X, y):\n",
    "    train_data, val_data = dataset[train_index], dataset[val_index]\n",
    "    train_loader = DataLoader(train_data, batch_size=100, shuffle=True)\n",
    "    val_loader = DataLoader(val_data, batch_size=100, shuffle=False)\n",
    "\n",
    "    # Implement the training loop with early stopping and l1 regularization\n",
    "    # You need to keep track of the best model based on validation performance\n",
    "    # Train for 100 iterations with early stopping and l1 regularization\n",
    "\n",
    "# After training, evaluate on your test set using the best model\n",
    "# Implement your evaluation code here\n"
   ]
  }
 ],
 "metadata": {
  "kernelspec": {
   "display_name": "pattern",
   "language": "python",
   "name": "python3"
  },
  "language_info": {
   "codemirror_mode": {
    "name": "ipython",
    "version": 3
   },
   "file_extension": ".py",
   "mimetype": "text/x-python",
   "name": "python",
   "nbconvert_exporter": "python",
   "pygments_lexer": "ipython3",
   "version": "3.10.11"
  }
 },
 "nbformat": 4,
 "nbformat_minor": 2
}
