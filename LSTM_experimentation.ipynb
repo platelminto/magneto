{
  "cells": [
    {
      "cell_type": "markdown",
      "metadata": {
        "id": "W8w2EfG6ULwQ"
      },
      "source": [
        "#0. Data Access"
      ]
    },
    {
      "cell_type": "code",
      "execution_count": null,
      "metadata": {
        "colab": {
          "base_uri": "https://localhost:8080/"
        },
        "id": "p0aIvwUNcMaK",
        "outputId": "6592b690-855a-4566-aede-a3907200ed3c"
      },
      "outputs": [
        {
          "output_type": "stream",
          "name": "stdout",
          "text": [
            "Mounted at /content/drive/\n",
            "64 16 16\n"
          ]
        }
      ],
      "source": [
        "from pathlib import Path\n",
        "\n",
        "LOCAL_RUNTIME = False\n",
        "\n",
        "if not LOCAL_RUNTIME:\n",
        "    from google.colab import drive\n",
        "    data_dir = Path(\"/content/Data/\")\n",
        "\n",
        "    if not (data_dir.is_dir() and any(data_dir.iterdir())):\n",
        "        drive.mount('/content/drive/')\n",
        "\n",
        "        if not data_dir.is_dir():\n",
        "            !mkdir /content/Data/\n",
        "\n",
        "        intra_dir = data_dir / \"Intra\"\n",
        "        cross_dir = data_dir / \"Cross\"\n",
        "\n",
        "        if not (\n",
        "            intra_dir.is_dir()\n",
        "            and any(subdir.is_file() for subdir in intra_dir.iterdir())\n",
        "            and cross_dir.is_dir()\n",
        "            and any(subdir.is_file() for subdir in cross_dir.iterdir())\n",
        "        ):\n",
        "            !unzip '/content/drive/MyDrive/Data/DL/Intra.zip' -d '/content/Data/' > /dev/null\n",
        "            !unzip '/content/drive/MyDrive/Data/DL/Cross.zip' -d '/content/Data/' > /dev/null\n",
        "\n",
        "        drive.flush_and_unmount()\n",
        "else:\n",
        "    raise ValueError(\"This code is intended to run in Google Colab. Please switch to a Colab environment.\")\n",
        "\n",
        "assert data_dir.is_dir()\n",
        "\n",
        "intra_dir = data_dir / \"Intra\"\n",
        "cross_dir = data_dir / \"Cross\"\n",
        "cross_train_files = list((cross_dir / \"train\").glob(\"*.h5\"))\n",
        "cross_test1_files = list((cross_dir / \"test1\").glob(\"*.h5\"))\n",
        "cross_test2_files = list((cross_dir / \"test2\").glob(\"*.h5\"))\n",
        "\n",
        "assert len(cross_train_files) == 64 and len(cross_test1_files) == 16 and  len(cross_test2_files) == 16\n",
        "print(len(cross_train_files), len(cross_test1_files), len(cross_test2_files))\n",
        "\n"
      ]
    },
    {
      "cell_type": "markdown",
      "metadata": {
        "id": "pCqFbbrZsuAV"
      },
      "source": [
        "#1. Data Preprocessing\n",
        "\n"
      ]
    },
    {
      "cell_type": "markdown",
      "metadata": {
        "id": "pdhKRj0MPW9t"
      },
      "source": [
        "Data Preparation and Labeling"
      ]
    },
    {
      "cell_type": "code",
      "execution_count": null,
      "metadata": {
        "id": "MyyCKceSPMWe"
      },
      "outputs": [],
      "source": [
        "import h5py\n",
        "import numpy as np\n",
        "\n",
        "def load_labels(path: Path) -> np.ndarray:\n",
        "    *task, subject_identifier, chunk = path.stem.split(\"_\")\n",
        "    if \"rest\" in task:\n",
        "        y = 0\n",
        "    elif 'math' in task:\n",
        "        y = 1\n",
        "    elif 'working' in task:\n",
        "        y = 2\n",
        "    elif 'motor' in task:\n",
        "        y = 3\n",
        "    else:\n",
        "        assert False, 'unknown task'\n",
        "    return np.array([y, int(subject_identifier), int(chunk)])\n",
        "\n",
        "def load_h5(path: Path) -> np.ndarray:\n",
        "    with h5py.File(path) as f:\n",
        "        keys = f.keys()\n",
        "        assert len(keys) == 1, f\"Only one key per file, right? {cross_train_files[0]}\"\n",
        "        matrix = f.get(next(iter(keys)))[()]\n",
        "    return matrix\n"
      ]
    },
    {
      "cell_type": "code",
      "execution_count": null,
      "metadata": {
        "colab": {
          "base_uri": "https://localhost:8080/"
        },
        "id": "Yv_6MAnZnZyr",
        "outputId": "0ced4817-ae84-4fd8-8b93-be0519b06b47"
      },
      "outputs": [
        {
          "output_type": "stream",
          "name": "stdout",
          "text": [
            "Combined test (32, 248, 35624) (32, 3)\n",
            "Shuffled train (32, 248, 35624) (32,)\n"
          ]
        }
      ],
      "source": [
        "# Cross subject\n",
        "\n",
        "# Train\n",
        "cross_train_X = np.stack([load_h5(file) for file in cross_train_files])\n",
        "cross_train_labels = np.stack([load_labels(file) for file in cross_train_files])[:, 0]\n",
        "\n",
        "# Test\n",
        "cross_test1_X = np.stack([load_h5(file) for file in cross_test1_files])\n",
        "cross_test1_labels = np.stack([load_labels(file) for file in cross_test1_files])\n",
        "\n",
        "cross_test2_X = np.stack([load_h5(file) for file in cross_test2_files])\n",
        "cross_test2_labels = np.stack([load_labels(file) for file in cross_test2_files])\n",
        "\n",
        "# Combine to create a single cross-test set\n",
        "cross_test_X = np.concatenate([cross_test1_X, cross_test2_X], axis=0)\n",
        "cross_test_labels = np.concatenate([cross_test1_labels, cross_test2_labels], axis=0)\n",
        "print(\"Combined test\", cross_test_X.shape, cross_test_labels.shape)\n",
        "\n",
        "# Shuffle to randomize the training\n",
        "indices = np.arange(len(cross_test_X))\n",
        "np.random.shuffle(indices)\n",
        "\n",
        "cross_test_X = cross_test_X[indices]\n",
        "cross_test_labels = cross_test_labels[indices][:, 0]\n",
        "print(\"Shuffled train\", cross_test_X.shape, cross_test_labels.shape)\n",
        "\n",
        "del cross_test1_X, cross_test2_X, cross_test1_labels, cross_test2_labels"
      ]
    },
    {
      "cell_type": "markdown",
      "metadata": {
        "id": "r_LR0rzWV05k"
      },
      "source": [
        "Preprocessing: downsampling and normalization"
      ]
    },
    {
      "cell_type": "code",
      "execution_count": null,
      "metadata": {
        "colab": {
          "base_uri": "https://localhost:8080/"
        },
        "id": "WgewlSZg5c6f",
        "outputId": "5b85ab6e-d081-4a49-e626-8711e613b213"
      },
      "outputs": [
        {
          "output_type": "stream",
          "name": "stdout",
          "text": [
            "torch.Size([64, 248, 1047]) torch.Size([32, 248, 1047])\n"
          ]
        }
      ],
      "source": [
        "import torch\n",
        "\n",
        "def downsample(data, old_freq, new_freq):\n",
        "    # Calculate the downsampling factor\n",
        "    downsample_factor = int(np.round(old_freq / new_freq))\n",
        "    # Ensure that timesteps are divisible by the downsampling factor\n",
        "    data = data[:,:,:data.shape[2]//downsample_factor*downsample_factor]\n",
        "    # Reshape\n",
        "    reshaped_data = data.reshape(data.shape[0], data.shape[1], -1, downsample_factor)\n",
        "    # Take the mean along the last axis\n",
        "    downsampled_data = reshaped_data.mean(axis=-1)\n",
        "    return downsampled_data\n",
        "\n",
        "def z_score_normalize(data):\n",
        "    # Convert to PyTorch tensor\n",
        "    data_tensor = torch.tensor(data, dtype=torch.float32)\n",
        "    # Calculate mean and std along the timesteps\n",
        "    mean = torch.mean(data_tensor, dim=2, keepdim=True)\n",
        "    std = torch.std(data_tensor, dim=2, keepdim=True)\n",
        "    # Perform z-score norm\n",
        "    normalized_data = (data_tensor - mean) / std\n",
        "    return normalized_data\n",
        "\n",
        "cross_train_X_norm = z_score_normalize(downsample(cross_train_X, 2034, 60))\n",
        "cross_test_X_norm = z_score_normalize(downsample(cross_test_X, 2034, 60))\n",
        "print(cross_train_X_norm.shape, cross_test_X_norm.shape)\n",
        "\n",
        "del cross_train_X, cross_test_X"
      ]
    },
    {
      "cell_type": "markdown",
      "metadata": {
        "id": "E75IdVlcUtLy"
      },
      "source": [
        "#2. Model Architecture"
      ]
    },
    {
      "cell_type": "code",
      "execution_count": null,
      "metadata": {
        "id": "ycBfkazpnvPO"
      },
      "outputs": [],
      "source": [
        "import torch\n",
        "import torch.nn as nn\n",
        "import torch.nn.functional as F\n",
        "from torch.optim import Adam\n",
        "\n",
        "device = torch.device('cuda' if torch.cuda.is_available() else 'cpu')\n",
        "\n",
        "input_size = 248\n",
        "hidden_size = 32\n",
        "output_size = 4\n",
        "n_layers = 2\n",
        "clip_grad = 0.5\n",
        "sequence_length = 50\n",
        "\n",
        "class VanillaLSTM(nn.Module):\n",
        "    def __init__(self, input_size, hidden_size, output_size, sequence_length, n_layers, bidirectional, clip_grad):\n",
        "        super(VanillaLSTM, self).__init__()\n",
        "        self.n_layers = n_layers\n",
        "        self.hidden_size = hidden_size\n",
        "        self.lstm = nn.LSTM(input_size=input_size, hidden_size=hidden_size, num_layers=n_layers, batch_first=True, bidirectional=bidirectional)\n",
        "\n",
        "        fc_input_size = hidden_size * (2 if bidirectional else 1)\n",
        "\n",
        "        self.fc = nn.Linear(fc_input_size, output_size)\n",
        "\n",
        "        self.clip_grad = clip_grad\n",
        "        self.sequence_length = sequence_length\n",
        "\n",
        "        self.lstm.flatten_parameters()\n",
        "\n",
        "        self.l1_penalty = 3e-4\n",
        "\n",
        "    def forward(self, x):\n",
        "        h0 = torch.zeros(self.n_layers, x.size(0), self.hidden_size).to(device)\n",
        "        c0 = torch.zeros(self.n_layers, x.size(0), self.hidden_size).to(device)\n",
        "\n",
        "        lstm_out, (hn, cn) = self.lstm(x.to(device), (h0, c0))\n",
        "\n",
        "        last_hidden_state = torch.tensor(lstm_out[:, self.sequence_length - 1, :]).to(device)\n",
        "\n",
        "        output = self.fc(last_hidden_state).to(device)\n",
        "        probabilities = torch.softmax(output, dim=1)\n",
        "        return probabilities\n",
        "\n",
        "    def l1_regularization(self):\n",
        "        l1_norm = sum(p.abs().sum() for p in self.parameters())\n",
        "        return self.l1_penalty * l1_norm\n"
      ]
    },
    {
      "cell_type": "markdown",
      "source": [
        "#3. Trainining"
      ],
      "metadata": {
        "id": "R47zMuGF5Sk_"
      }
    },
    {
      "cell_type": "code",
      "execution_count": null,
      "metadata": {
        "colab": {
          "base_uri": "https://localhost:8080/"
        },
        "id": "oLZguvzo9Zc_",
        "outputId": "43f57ba1-9a25-485d-ba2e-62ec3c095e25"
      },
      "outputs": [
        {
          "output_type": "stream",
          "name": "stdout",
          "text": [
            "Best Hyperparameters: {'batch_size': 8, 'bidirectional': False, 'clip_grad': None, 'hidden_size': 32, 'learning_rate': 0.001, 'n_layers': 1, 'num_epochs': 30, 'sequence_length': 100}, Training loss: 0.5271071083843708, Testing loss: 0.3515672869980335, Training accuracy: 1.8125, Testing_accuracy:1.9375\n"
          ]
        }
      ],
      "source": [
        "import numpy as np\n",
        "from torch.utils.data import DataLoader\n",
        "from torch.utils.data.dataset import TensorDataset\n",
        "from sklearn.model_selection import ParameterGrid\n",
        "import warnings\n",
        "\n",
        "device = torch.device('cuda' if torch.cuda.is_available() else 'cpu')\n",
        "warnings.filterwarnings(\"ignore\")\n",
        "\n",
        "batch_size = 8\n",
        "num_epochs = 10\n",
        "\n",
        "dataset = TensorDataset(torch.tensor(cross_train_X_norm), torch.tensor(cross_train_labels).long())\n",
        "train_loader = DataLoader(dataset, batch_size=batch_size, shuffle=True)\n",
        "\n",
        "test_dataset = TensorDataset(torch.tensor(cross_test_X_norm), torch.tensor(cross_test_labels).long())\n",
        "test_loader = DataLoader(test_dataset, batch_size=batch_size, shuffle=True)\n",
        "\n",
        "# Variables for early stopping\n",
        "early_stopping_patience = 100\n",
        "best_loss = np.inf\n",
        "patience_counter = 0\n",
        "\n",
        "# Reset the early stopping patience\n",
        "patience_counter = 0\n",
        "best_loss = np.inf\n",
        "\n",
        "train_losses = []\n",
        "train_accuracies = []\n",
        "test_losses = []\n",
        "test_accuracies = []\n",
        "\n",
        "param_grid = {\n",
        "    'learning_rate': [0.00001, 0.0001, 0.001],\n",
        "    'batch_size': [8, 16, 32],\n",
        "    'num_epochs': [10, 20, 30],\n",
        "    'hidden_size': [32, 64, 128],\n",
        "    'sequence_length': [50, 100, 150],\n",
        "    'n_layers': [1, 2, 3, 5, 10],\n",
        "    'bidirectional': [False, True],\n",
        "    'clip_grad': [None, 0.1, 0.5, 1.0]\n",
        "}\n",
        "grid = ParameterGrid(param_grid)\n",
        "best_params = None\n",
        "best_test_loss = np.inf\n",
        "\n",
        "\n",
        "for params in grid:\n",
        "    batch_size = params['batch_size']\n",
        "    num_epochs = params['num_epochs']\n",
        "\n",
        "    model = VanillaLSTM(input_size=input_size, hidden_size=params['hidden_size'], output_size=output_size, sequence_length=params['sequence_length'], n_layers=params['n_layers'], bidirectional=params['bidirectional'], clip_grad=params['clip_grad']).to(device)\n",
        "    loss_function = nn.MSELoss()\n",
        "    optimizer = Adam(model.parameters(), lr=params['learning_rate'])\n",
        "\n",
        "    n_total_steps = len(train_loader)\n",
        "    for epoch in range(num_epochs):\n",
        "        train_loss = 0.0\n",
        "        correct_predictions = 0\n",
        "        total_predictions = 0\n",
        "\n",
        "        # Training\n",
        "        model.train()\n",
        "        for batch_idx, (data, target) in enumerate(train_loader):\n",
        "            data = torch.tensor(data).permute(0, 2, 1).squeeze(0)\n",
        "            target = target.view(-1, 1).float().to(device)\n",
        "\n",
        "            # forward pass\n",
        "            output = model(data)\n",
        "            loss = loss_function(output, target) + model.l1_regularization()\n",
        "\n",
        "            # backward and optimize\n",
        "            optimizer.zero_grad()\n",
        "            loss.backward()\n",
        "\n",
        "            if params['clip_grad'] is not None:\n",
        "                torch.nn.utils.clip_grad_norm_(model.parameters(), params['clip_grad'])\n",
        "\n",
        "            optimizer.step()\n",
        "\n",
        "            # Curr Loss\n",
        "            train_loss += loss.item()\n",
        "\n",
        "            # Curr Accuracy\n",
        "            _, predicted = torch.max(output.data, 1)\n",
        "            total_predictions += target.size(0)\n",
        "            correct_predictions += (predicted == target).sum().item()\n",
        "\n",
        "            if (batch_idx+1) % 100 == 0:\n",
        "              print(f'Epoch [{epoch+1}/{num_epochs}], Step [{batch_idx+1}/{n_total_steps}], Loss: {loss.item():.4f}')\n",
        "\n",
        "\n",
        "    # Average loss and accuracy over the epoch\n",
        "    train_loss /= len(dataset)\n",
        "    train_accuracy = correct_predictions / total_predictions\n",
        "\n",
        "    #print(f\"Training loss: {train_loss}, Training accuracy: {train_accuracy}\")\n",
        "\n",
        "    # Validation\n",
        "    model.eval()\n",
        "    test_loss = 0.0\n",
        "    correct_predictions = 0\n",
        "    total_predictions = 0\n",
        "\n",
        "    # Test\n",
        "    with torch.no_grad():\n",
        "        for data, target in test_loader:\n",
        "            data = torch.tensor(data).permute(0, 2, 1).to(device)\n",
        "            target = target.view(-1, 1).float().to(device)\n",
        "            output = model(data)\n",
        "\n",
        "            # Curr Loss\n",
        "            test_loss += loss_function(output, target).item()\n",
        "\n",
        "            # Curr Accuracy\n",
        "            _, predicted = torch.max(output.data, 1)\n",
        "            total_predictions += target.size(0)\n",
        "            correct_predictions += (predicted == target).sum().item()\n",
        "\n",
        "\n",
        "    test_loss /= len(test_loader.dataset)\n",
        "    test_accuracy = correct_predictions / total_predictions\n",
        "\n",
        "    #print(f\"Test loss: {test_loss}, Test accuracy: {test_accuracy}\")\n",
        "\n",
        "    train_losses.append(train_loss)\n",
        "    train_accuracies.append(train_accuracy)\n",
        "    test_losses.append(test_loss)\n",
        "    test_accuracies.append(test_accuracy)\n",
        "\n",
        "    if test_loss < best_test_loss:\n",
        "        best_params = params\n",
        "        best_test_loss = test_loss\n",
        "        # print(f\"For params: {params}\")\n",
        "        # print(f\"Training loss: {train_loss}, Training accuracy: {train_accuracy}\")\n",
        "        # print(f\"Test loss: {test_loss}, Test accuracy: {test_accuracy}\")\n",
        "        patience_counter = 0\n",
        "        best_params = params\n",
        "        #save the model\n",
        "        checkpoint = {\n",
        "            'model_state_dict': model.state_dict(),\n",
        "            'optimizer_state_dict': optimizer.state_dict(),\n",
        "            'epoch': epoch,\n",
        "            'best_loss': best_loss,\n",
        "            'best_accuracy': test_accuracy}\n",
        "        torch.save(checkpoint, f'cnn_checkpoint.pt')\n",
        "        #print(f\"Checkpoint saved at epoch {epoch}\")\n",
        "    else:\n",
        "        patience_counter += 1\n",
        "        if patience_counter >= early_stopping_patience:\n",
        "            #print(\"Early stopping triggered.\")\n",
        "            break\n",
        "\n",
        "print(f\"Best Hyperparameters: {best_params}, Training loss: {train_loss}, Testing loss: {test_loss}, Training accuracy: {train_accuracy}, Testing_accuracy:{test_accuracy}\")"
      ]
    },
    {
      "cell_type": "code",
      "source": [
        "print(f\"Best Hyperparameters: {best_params}\")\n",
        "print(f\"Training loss: {train_loss}\")\n",
        "print(f\"Testing loss: {test_loss}\")\n",
        "print(f\"Training accuracy: {train_accuracy}\")\n",
        "print(f\"Testing accuracy: {test_accuracy}\")"
      ],
      "metadata": {
        "colab": {
          "base_uri": "https://localhost:8080/"
        },
        "id": "2d-hQ1R68Sh1",
        "outputId": "180ba67f-3afd-496f-dfa2-3e207b62217b"
      },
      "execution_count": null,
      "outputs": [
        {
          "output_type": "stream",
          "name": "stdout",
          "text": [
            "Best Hyperparameters: {'batch_size': 8, 'bidirectional': False, 'clip_grad': None, 'hidden_size': 32, 'learning_rate': 0.001, 'n_layers': 1, 'num_epochs': 30, 'sequence_length': 100}\n",
            "Training loss: 0.5271071083843708\n",
            "Testing loss: 0.3515672869980335\n",
            "Training accuracy: 1.8125\n",
            "Testing accuracy: 1.9375\n"
          ]
        }
      ]
    },
    {
      "cell_type": "markdown",
      "metadata": {
        "id": "eopYNtGdUCv0"
      },
      "source": [
        "#4. Performances"
      ]
    },
    {
      "cell_type": "code",
      "source": [
        "import matplotlib.pyplot as plt\n",
        "\n",
        "epochs = range(1, len(train_losses) + 1)\n",
        "\n",
        "# Plot Training and Validation Loss\n",
        "plt.figure(figsize=(10, 5))\n",
        "plt.subplot(1, 2, 1)\n",
        "plt.plot(epochs, train_losses, label='Training')\n",
        "plt.plot(epochs, test_losses, label='Validation')\n",
        "plt.title('Loss')\n",
        "plt.xlabel('Epoch')\n",
        "plt.ylabel('Loss')\n",
        "plt.legend()\n",
        "\n",
        "# Plot Validation Accuracy\n",
        "plt.subplot(1, 2, 2)\n",
        "plt.plot(epochs, train_accuracies, label='Training')\n",
        "plt.plot(epochs, test_accuracies, label='Validation')\n",
        "plt.title('Accuracy')\n",
        "plt.xlabel('Epoch')\n",
        "plt.ylabel('Accuracy')\n",
        "plt.legend()\n",
        "\n",
        "plt.tight_layout()\n",
        "plt.show()"
      ],
      "metadata": {
        "colab": {
          "base_uri": "https://localhost:8080/",
          "height": 507
        },
        "id": "HFHRHJAr2wf-",
        "outputId": "cf7c1a69-5ce4-425a-97d3-8d2fd1a887f8"
      },
      "execution_count": null,
      "outputs": [
        {
          "output_type": "display_data",
          "data": {
            "text/plain": [
              "<Figure size 1000x500 with 2 Axes>"
            ],
            "image/png": "[encoded data removed]"
          },
          "metadata": {}
        }
      ]
    }
  ],
  "metadata": {
    "accelerator": "GPU",
    "colab": {
      "provenance": [],
      "gpuType": "T4"
    },
    "kernelspec": {
      "display_name": "Python 3",
      "name": "python3"
    },
    "language_info": {
      "name": "python"
    }
  },
  "nbformat": 4,
  "nbformat_minor": 0
}