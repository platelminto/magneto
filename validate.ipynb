{
 "cells": [
  {
   "cell_type": "code",
   "execution_count": 8,
   "metadata": {},
   "outputs": [
    {
     "name": "stdout",
     "output_type": "stream",
     "text": [
      "NEW_FREQ=10, RUN_PATH='./checkpoints/djotx6he_4.pt', BATCH_SIZE=12, \n"
     ]
    },
    {
     "name": "stderr",
     "output_type": "stream",
     "text": [
      "/home/pcsmet/miniconda3/envs/pattern_torch/lib/python3.10/site-packages/tqdm/auto.py:21: TqdmWarning: IProgress not found. Please update jupyter and ipywidgets. See https://ipywidgets.readthedocs.io/en/stable/user_install.html\n",
      "  from .autonotebook import tqdm as notebook_tqdm\n",
      "100%|██████████| 64/64 [00:04<00:00, 13.07it/s]\n",
      "100%|██████████| 16/16 [00:01<00:00, 13.84it/s]\n",
      "100%|██████████| 16/16 [00:01<00:00, 10.83it/s]\n",
      "100%|██████████| 16/16 [00:01<00:00, 10.31it/s]\n",
      "/home/pcsmet/miniconda3/envs/pattern_torch/lib/python3.10/site-packages/torch/nn/modules/conv.py:605: UserWarning: Applied workaround for CuDNN issue, install nvrtc.so (Triggered internally at /opt/conda/conda-bld/pytorch_1702400366987/work/aten/src/ATen/native/cudnn/Conv_v8.cpp:80.)\n",
      "  return F.conv3d(\n"
     ]
    }
   ],
   "source": [
    "import validate"
   ]
  },
  {
   "cell_type": "code",
   "execution_count": 22,
   "metadata": {},
   "outputs": [],
   "source": [
    "import pandas as pd"
   ]
  },
  {
   "cell_type": "code",
   "execution_count": 19,
   "metadata": {},
   "outputs": [
    {
     "data": {
      "text/plain": [
       "0.5"
      ]
     },
     "execution_count": 19,
     "metadata": {},
     "output_type": "execute_result"
    }
   ],
   "source": [
    "(validate.test1_out == validate.y_test1.numpy()).sum() / validate.test1_out.shape[0]"
   ]
  },
  {
   "cell_type": "code",
   "execution_count": 20,
   "metadata": {},
   "outputs": [
    {
     "data": {
      "text/plain": [
       "0.875"
      ]
     },
     "execution_count": 20,
     "metadata": {},
     "output_type": "execute_result"
    }
   ],
   "source": [
    "(validate.test2_out == validate.y_test2.numpy()).sum() / validate.test2_out.shape[0]"
   ]
  },
  {
   "cell_type": "code",
   "execution_count": 21,
   "metadata": {},
   "outputs": [
    {
     "data": {
      "text/plain": [
       "0.5"
      ]
     },
     "execution_count": 21,
     "metadata": {},
     "output_type": "execute_result"
    }
   ],
   "source": [
    "(validate.test3_out == validate.y_test3.numpy()).sum() / validate.test3_out.shape[0]"
   ]
  },
  {
   "cell_type": "code",
   "execution_count": 43,
   "metadata": {},
   "outputs": [
    {
     "data": {
      "text/plain": [
       "0.6875"
      ]
     },
     "execution_count": 43,
     "metadata": {},
     "output_type": "execute_result"
    }
   ],
   "source": [
    "(0.5  + 0.875) / 2"
   ]
  },
  {
   "cell_type": "code",
   "execution_count": 36,
   "metadata": {},
   "outputs": [],
   "source": [
    "df_test1 = pd.DataFrame([validate.test1_out, validate.y_test1.numpy()]).T.rename(columns={0: \"pred\", 1: \"true\"})\n",
    "df_test2 = pd.DataFrame([validate.test2_out, validate.y_test2.numpy()]).T.rename(columns={0: \"pred\", 1: \"true\"})\n",
    "df_test3 = pd.DataFrame([validate.test3_out, validate.y_test3.numpy()]).T.rename(columns={0: \"pred\", 1: \"true\"})"
   ]
  },
  {
   "cell_type": "code",
   "execution_count": 47,
   "metadata": {},
   "outputs": [
    {
     "name": "stdout",
     "output_type": "stream",
     "text": [
      "test1\n",
      "0 0.5\n",
      "1 0.75\n",
      "2 0.75\n",
      "3 0.0\n",
      "test2\n",
      "0 1.0\n",
      "1 1.0\n",
      "2 1.0\n",
      "3 0.5\n",
      "test3\n",
      "0 1.0\n",
      "1 0.0\n",
      "2 0.5\n",
      "3 0.5\n"
     ]
    }
   ],
   "source": [
    "def per_class(test_out, y_test):\n",
    "    for n in range(4):\n",
    "        mask = y_test == n\n",
    "        print(n, (test_out[mask] == y_test.numpy()[mask]).sum() / test_out[mask].shape[0])\n",
    "print(\"test1\")\n",
    "per_class(validate.test1_out, validate.y_test1)\n",
    "print(\"test2\")\n",
    "per_class(validate.test2_out, validate.y_test2)\n",
    "print(\"test3\")\n",
    "per_class(validate.test3_out, validate.y_test3)"
   ]
  },
  {
   "cell_type": "code",
   "execution_count": 4,
   "metadata": {},
   "outputs": [],
   "source": [
    "import wandb\n",
    "from pathlib import Path\n",
    "\n",
    "from collections import defaultdict"
   ]
  },
  {
   "cell_type": "code",
   "execution_count": 7,
   "metadata": {},
   "outputs": [
    {
     "name": "stdout",
     "output_type": "stream",
     "text": [
      "defaultdict(<class 'list'>, {'cwnuw7zy': ['1'], 'cvooxzv6': ['2'], 'ioho7ler': ['9', '8', '2', '7'], 'cx2vq9k4': ['10'], 'pybn6640': ['3', '34', '29', '31', '32', '30', '23', '36', '33', '37', '38', '27', '28', '25', '24', '26', '39', '35'], 'uekiizm5': ['2'], '2mjl062b': ['5'], 'k06mrymy': ['1'], 's5gd9m49': ['5', '14', '11', '2'], 'av2tysev': ['33', '1'], '78kgqk0z': ['31', '39', '33', '36', '0', '23', '14', '37', '32', '34', '35', '38', '13', '22'], '0w7g70lc': ['2', '5', '6', '8', '17', '11', '19', '13', '12'], '1ntdwpf9': ['37'], '3at8v73p': ['7', '2'], 'b3xabyvy': ['19', '38', '18'], 'h6vdbw2g': ['19'], 'a9rpzzbl': ['22', '37', '28', '32', '33', '17', '29', '36'], 'nljfkygj': ['7', '15', '2'], 'uothafjv': ['35', '34'], 'n69ztm8z': ['13', '7', '10'], 'd8hydwjd': ['4'], 'xvx1shs2': ['24', '22'], '891vm6zn': ['12', '6', '8'], 'tpzhsf7a': ['11'], 'mxb8mlof': ['8'], 'alz1s5d5': ['3'], '4nbxfkbt': ['13', '15', '16'], 'y89ideh6': ['8', '11'], 'j2l0egl1': ['5', '15'], 'r224aj59': ['13'], 'djotx6he': ['4'], '7dapdck9': ['21', '25', '32', '26', '18'], 'ikvzm977': ['1'], 'otkk66yi': ['14'], 'ik5e58tl': ['6', '5', '12'], '80yfoi78': ['6'], 'oaacxeqy': ['2'], 'itimk61p': ['17', '16'], '0tuphx3y': ['2', '3'], 'tx47fett': ['2'], '0iklk44z': ['5', '8'], 'qnfiidl7': ['5'], 'xp2v4t7n': ['12'], 'fixvadvv': ['1'], 'iwix3l8v': ['12'], 'k37ogmui': ['3', '12'], 'tqcqw902': ['6'], '2cguc3l7': ['8', '15', '3'], 'kz5vn3v8': ['17'], 'zpkuw7mx': ['25', '19', '17'], 'n1tk0miz': ['1'], '0m8i9ig7': ['14'], '7ybk3p8b': ['9'], 'k1sof7aj': ['5', '6', '3'], '8u6khlqt': ['3'], '3vsqm8xo': ['12']})\n"
     ]
    }
   ],
   "source": [
    "checkpoints = Path(\"checkpoints/\").glob(\"*.pt\")\n",
    "\n",
    "model_to_epoch = defaultdict(list)\n",
    "\n",
    "for checkpoint in checkpoints:\n",
    "    name, epoch = checkpoint.stem.split(\"_\")\n",
    "    model_to_epoch[name].append(epoch)\n",
    "\n",
    "print(model_to_epoch)"
   ]
  },
  {
   "cell_type": "code",
   "execution_count": null,
   "metadata": {},
   "outputs": [],
   "source": [
    "wandb.api.runs(path=\"\")"
   ]
  }
 ],
 "metadata": {
  "kernelspec": {
   "display_name": "pattern_torch",
   "language": "python",
   "name": "python3"
  },
  "language_info": {
   "codemirror_mode": {
    "name": "ipython",
    "version": 3
   },
   "file_extension": ".py",
   "mimetype": "text/x-python",
   "name": "python",
   "nbconvert_exporter": "python",
   "pygments_lexer": "ipython3",
   "version": "3.10.13"
  }
 },
 "nbformat": 4,
 "nbformat_minor": 2
}
