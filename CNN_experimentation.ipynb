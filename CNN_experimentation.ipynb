{
 "cells": [
  {
   "cell_type": "markdown",
   "metadata": {},
   "source": [
    "## Data loading"
   ]
  },
  {
   "cell_type": "code",
   "execution_count": 2,
   "metadata": {},
   "outputs": [],
   "source": [
    "import h5py\n",
    "import numpy as np\n",
    "from pathlib import Path"
   ]
  },
  {
   "cell_type": "code",
   "execution_count": 25,
   "metadata": {},
   "outputs": [
    {
     "data": {
      "text/plain": [
       "32"
      ]
     },
     "execution_count": 25,
     "metadata": {},
     "output_type": "execute_result"
    }
   ],
   "source": [
    "colab = True\n",
    "\n",
    "if colab == True:\n",
    "    from google.colab import drive\n",
    "    drive.mount('/content/drive')\n",
    "    !unzip '/content/drive/My Drive/PatternRecognition/data.zip' -d '/content/data'\n",
    "    data_dir = Path(\"./data/\") / \"Final Project data\"\n",
    "else:\n",
    "  data_dir = Path(\"./data/\")\n",
    "\n",
    "assert data_dir.is_dir()\n",
    "intra_dir = data_dir / \"Intra\"\n",
    "cross_dir = data_dir / \"Cross\"\n",
    "cross_train_glob = list((cross_dir / \"train\").glob(\"*.h5\"))\n",
    "cross_test1_glob = list((cross_dir / \"test1\").glob(\"*.h5\"))\n",
    "cross_test2_glob = list((cross_dir / \"test2\").glob(\"*.h5\"))\n",
    "print(len(cross_train_glob), len(cross_test1_glob), len(cross_test2_glob))"
   ]
  },
  {
   "cell_type": "code",
   "execution_count": 26,
   "metadata": {},
   "outputs": [],
   "source": [
    "def load_labels(path: Path) -> np.ndarray:\n",
    "    *task, subject_identifier, chunk = path.stem.split(\"_\")\n",
    "    if \"rest\" in task:\n",
    "        y = 0\n",
    "    elif 'math' in task:\n",
    "        y = 1\n",
    "    elif 'working' in task:\n",
    "        y = 2\n",
    "    elif 'motor' in task:\n",
    "        y = 3\n",
    "    else:\n",
    "        assert False, 'unknown task'\n",
    "    return np.array([y, int(subject_identifier), int(chunk)])"
   ]
  },
  {
   "cell_type": "code",
   "execution_count": 27,
   "metadata": {},
   "outputs": [
    {
     "data": {
      "text/plain": [
       "((32, 248, 35624), (32,))"
      ]
     },
     "execution_count": 27,
     "metadata": {},
     "output_type": "execute_result"
    }
   ],
   "source": [
    "def load_h5(path: Path) -> np.ndarray:\n",
    "    with h5py.File(path) as f:\n",
    "        keys = f.keys()\n",
    "        assert len(keys) == 1, f\"Only one key per file, right? {cross_train_glob[0]}\"\n",
    "        matrix = f.get(next(iter(keys)))[()]\n",
    "    return matrix\n",
    "\n",
    "\n",
    "cross_train_X = np.stack(list(map(load_h5, cross_train_glob)))\n",
    "cross_train_labels = np.stack(list(map(load_labels, cross_train_glob)))[:, 0]"
   ]
  },
  {
   "cell_type": "code",
   "execution_count": 28,
   "metadata": {},
   "outputs": [
    {
     "data": {
      "text/plain": [
       "((8, 248, 35624), (8, 3))"
      ]
     },
     "execution_count": 28,
     "metadata": {},
     "output_type": "execute_result"
    }
   ],
   "source": [
    "#Load first test dataset\n",
    "cross_test1_X = np.stack(list(map(load_h5, cross_test1_glob)))\n",
    "cross_test1_labels = np.stack(list(map(load_labels, cross_test1_glob)))\n",
    "\n",
    "#Load second test dataset\n",
    "cross_test2_X = np.stack(list(map(load_h5, cross_test2_glob)))\n",
    "cross_test2_labels = np.stack(list(map(load_labels, cross_test2_glob)))\n",
    "\n",
    "#Combine two datasets\n",
    "cross_test_X = np.concatenate([cross_test1_X, cross_test2_X], axis=0)\n",
    "cross_test_labels = np.concatenate([cross_test1_labels, cross_test2_labels], axis=0)\n",
    "\n",
    "#Create a common shuffle\n",
    "indices = np.arange(len(cross_test_X))\n",
    "np.random.shuffle(indices)\n",
    "\n",
    "#Shuffle\n",
    "cross_test_X = cross_test_X[indices]\n",
    "cross_test_labels = cross_test_labels[indices][:, 0] #only keep the first dim \n",
    "print(cross_test_X.shape, cross_test_labels.shape)"
   ]
  },
  {
   "cell_type": "markdown",
   "metadata": {},
   "source": [
    "## Data preprocessing"
   ]
  },
  {
   "cell_type": "code",
   "execution_count": 10,
   "metadata": {},
   "outputs": [
    {
     "name": "stdout",
     "output_type": "stream",
     "text": [
      "torch.Size([32, 248, 2226])\n"
     ]
    }
   ],
   "source": [
    "import numpy as np\n",
    "import torch\n",
    "\n",
    "def downsample(data, old_freq, new_freq):\n",
    "    # Calculate the downsampling factor\n",
    "    downsample_factor = int(np.round(old_freq / new_freq))\n",
    "    # Ensure that timesteps are divisible by the downsampling factor\n",
    "    data = data[:,:,:data.shape[2]//downsample_factor*downsample_factor]\n",
    "    # Reshape\n",
    "    reshaped_data = data.reshape(data.shape[0], data.shape[1], -1, downsample_factor)\n",
    "    # Take the mean along the last axis\n",
    "    downsampled_data = reshaped_data.mean(axis=-1)\n",
    "    return downsampled_data\n",
    "\n",
    "def z_score_normalize(data):\n",
    "    # Convert to PyTorch tensor\n",
    "    data_tensor = torch.tensor(data, dtype=torch.float32)\n",
    "    # Calculate mean and std along the timesteps\n",
    "    mean = torch.mean(data_tensor, dim=2, keepdim=True)\n",
    "    std = torch.std(data_tensor, dim=2, keepdim=True)\n",
    "    # Perform z-score norm\n",
    "    normalized_data = (data_tensor - mean) / std\n",
    "    return normalized_data\n",
    "\n",
    "cross_train_X_norm = z_score_normalize(downsample(cross_train_X, 2034, 60))\n",
    "cross_test_X_norm = z_score_normalize(downsample(cross_test_X, 2034, 60))\n",
    "\n",
    "print(cross_train_X_norm.shape, cross_test_X_norm.shape)"
   ]
  },
  {
   "cell_type": "markdown",
   "metadata": {},
   "source": [
    "## VAR-CNN Architecture\n",
    "implemented from: https://www.ncbi.nlm.nih.gov/pmc/articles/PMC6609925/"
   ]
  },
  {
   "cell_type": "code",
   "execution_count": 29,
   "metadata": {},
   "outputs": [],
   "source": [
    "import torch\n",
    "import torch.nn as nn\n",
    "import torch.nn.functional as F\n",
    "from torch.optim import Adam\n",
    "\n",
    "#Define based on the input data shape\n",
    "n_classes = 4\n",
    "input_channels = 248\n",
    "input_height = 1047\n",
    "input_width = 1\n",
    "\n",
    "# Define the neural network module\n",
    "class VectorAutoregressiveCNN(nn.Module):\n",
    "    def __init__(self, input_channels, k, l, n_classes):\n",
    "        super(VectorAutoregressiveCNN, self).__init__()\n",
    "        #2D Conv\n",
    "        self.conv = nn.Conv2d(input_channels, k, (l, 1))\n",
    "        # Max Pooling\n",
    "        self.pool = nn.MaxPool2d((2, 1), stride=(2, 1))\n",
    "        # Calculate output shape after conv and pool\n",
    "        conv_output_height = (input_height - l + 1) // 2\n",
    "        conv_output_width = 1\n",
    "        ninputs = k * conv_output_height * conv_output_width\n",
    "        #Fully Connected Layer\n",
    "        self.fc = nn.Linear(ninputs, n_classes)\n",
    "        self.l1_penalty = 3e-4\n",
    "\n",
    "    def forward(self, x):\n",
    "        x = self.conv(x)\n",
    "        x = F.relu(x)\n",
    "        x = self.pool(x)\n",
    "        x = torch.flatten(x, 1)\n",
    "        x = self.fc(x)\n",
    "        return F.log_softmax(x, dim=1)\n",
    "\n",
    "    def l1_regularization(self):\n",
    "        l1_norm = sum(p.abs().sum() for p in self.parameters())\n",
    "        return self.l1_penalty * l1_norm\n",
    "\n",
    "# Instantiate the model\n",
    "device = torch.device(\"cuda\")\n",
    "#model = VectorAutoregressiveCNN(input_channels, k, l, n_classes)\n",
    "#model.to(device)\n",
    "\n",
    "# Define the optimizer and loss function\n",
    "#optimizer = Adam(model.parameters(), lr=0.00001)\n",
    "loss_function = nn.CrossEntropyLoss()"
   ]
  },
  {
   "cell_type": "markdown",
   "metadata": {},
   "source": [
    "## Training"
   ]
  },
  {
   "cell_type": "code",
   "execution_count": 37,
   "metadata": {},
   "outputs": [
    {
     "name": "stderr",
     "output_type": "stream",
     "text": [
      "C:\\Users\\marie\\AppData\\Local\\Temp\\ipykernel_23284\\3717209327.py:9: UserWarning: To copy construct from a tensor, it is recommended to use sourceTensor.clone().detach() or sourceTensor.clone().detach().requires_grad_(True), rather than torch.tensor(sourceTensor).\n",
      "  dataset = TensorDataset(torch.tensor(intra_train_X_norm.unsqueeze(-1)), torch.tensor(intra_train_labels_stripped).long())\n"
     ]
    },
    {
     "name": "stdout",
     "output_type": "stream",
     "text": [
      "Fold 1\n",
      "Epoch 1\n",
      "Training loss: 0.017276661396026613, Training accuracy: 1.0\n",
      "Validation loss: 0.0001438441187409418, Validation accuracy: 1.0\n",
      "Checkpoint saved for fold 0 at epoch 0\n",
      "Epoch 2\n",
      "Training loss: 0.017176350951194762, Training accuracy: 1.0\n",
      "Validation loss: 0.00014764012303203344, Validation accuracy: 1.0\n",
      "Epoch 3\n",
      "Training loss: 0.01715212106704712, Training accuracy: 1.0\n",
      "Validation loss: 0.00015292266782905375, Validation accuracy: 1.0\n",
      "Epoch 4\n",
      "Training loss: 0.01704555869102478, Training accuracy: 1.0\n",
      "Validation loss: 0.00015892598977578537, Validation accuracy: 1.0\n",
      "Epoch 5\n",
      "Training loss: 0.017002911269664765, Training accuracy: 1.0\n",
      "Validation loss: 0.00016551463132990257, Validation accuracy: 1.0\n",
      "Fold 2\n",
      "Epoch 1\n",
      "Training loss: 0.01697812885046005, Training accuracy: 1.0\n",
      "Validation loss: 8.517720769824726e-05, Validation accuracy: 1.0\n",
      "Checkpoint saved for fold 1 at epoch 0\n",
      "Epoch 2\n",
      "Training loss: 0.01687861979007721, Training accuracy: 1.0\n",
      "Validation loss: 8.693024782197816e-05, Validation accuracy: 1.0\n",
      "Epoch 3\n",
      "Training loss: 0.01682419180870056, Training accuracy: 1.0\n",
      "Validation loss: 8.929332086284245e-05, Validation accuracy: 1.0\n",
      "Epoch 4\n",
      "Training loss: 0.01676689028739929, Training accuracy: 1.0\n",
      "Validation loss: 9.218373036544238e-05, Validation accuracy: 1.0\n",
      "Epoch 5\n",
      "Training loss: 0.016692037880420684, Training accuracy: 1.0\n",
      "Validation loss: 9.52367637572544e-05, Validation accuracy: 1.0\n",
      "Fold 3\n",
      "Epoch 1\n",
      "Training loss: 0.016018637670920446, Training accuracy: 1.0\n",
      "Validation loss: 7.780889184990276e-05, Validation accuracy: 1.0\n",
      "Checkpoint saved for fold 2 at epoch 0\n",
      "Epoch 2\n",
      "Training loss: 0.015923795505211905, Training accuracy: 1.0\n",
      "Validation loss: 7.94724376949792e-05, Validation accuracy: 1.0\n",
      "Epoch 3\n",
      "Training loss: 0.015874581554761298, Training accuracy: 1.0\n",
      "Validation loss: 8.149286926103134e-05, Validation accuracy: 1.0\n",
      "Epoch 4\n",
      "Training loss: 0.015814138146547172, Training accuracy: 1.0\n",
      "Validation loss: 8.451121781642239e-05, Validation accuracy: 1.0\n",
      "Epoch 5\n",
      "Training loss: 0.015731900357283078, Training accuracy: 1.0\n",
      "Validation loss: 8.80151540817072e-05, Validation accuracy: 1.0\n",
      "Fold 4\n",
      "Epoch 1\n",
      "Training loss: 0.01567725407389494, Training accuracy: 1.0\n",
      "Validation loss: 0.0001526938188665857, Validation accuracy: 1.0\n",
      "Checkpoint saved for fold 3 at epoch 0\n",
      "Epoch 2\n",
      "Training loss: 0.015596811587993916, Training accuracy: 1.0\n",
      "Validation loss: 0.00015591881431949636, Validation accuracy: 1.0\n",
      "Epoch 3\n",
      "Training loss: 0.015523152282604804, Training accuracy: 1.0\n",
      "Validation loss: 0.00016061236965470016, Validation accuracy: 1.0\n",
      "Epoch 4\n",
      "Training loss: 0.015483143237920908, Training accuracy: 1.0\n",
      "Validation loss: 0.0001676013149941961, Validation accuracy: 1.0\n",
      "Epoch 5\n",
      "Training loss: 0.015387220164904227, Training accuracy: 1.0\n",
      "Validation loss: 0.0001763130227724711, Validation accuracy: 1.0\n",
      "Fold 5\n",
      "Epoch 1\n",
      "Training loss: 0.015361606788176756, Training accuracy: 1.0\n",
      "Validation loss: 9.475436915333073e-05, Validation accuracy: 1.0\n",
      "Checkpoint saved for fold 4 at epoch 0\n",
      "Epoch 2\n",
      "Training loss: 0.015284588990303187, Training accuracy: 1.0\n",
      "Validation loss: 9.768554203522702e-05, Validation accuracy: 1.0\n",
      "Epoch 3\n",
      "Training loss: 0.015212094554534325, Training accuracy: 1.0\n",
      "Validation loss: 0.00010151309349263708, Validation accuracy: 1.0\n",
      "Epoch 4\n",
      "Training loss: 0.015156508065187015, Training accuracy: 1.0\n",
      "Validation loss: 0.00010533393166648845, Validation accuracy: 1.0\n",
      "Epoch 5\n",
      "Training loss: 0.015073388241804563, Training accuracy: 1.0\n",
      "Validation loss: 0.00010924076195806265, Validation accuracy: 1.0\n"
     ]
    }
   ],
   "source": [
    "import numpy as np\n",
    "from torch.utils.data import DataLoader\n",
    "from torch.utils.data.dataset import TensorDataset\n",
    "from sklearn.model_selection import ParameterGrid\n",
    "\n",
    "batch_size = 8\n",
    "num_epochs = 30\n",
    "\n",
    "dataset = TensorDataset(torch.tensor(cross_train_X_norm.unsqueeze(-1)), torch.tensor(cross_train_labels).long())\n",
    "train_loader = DataLoader(dataset, batch_size=batch_size, shuffle=True)\n",
    "\n",
    "test_dataset = TensorDataset(torch.tensor(cross_test_X_norm.unsqueeze(-1)), torch.tensor(cross_test_labels).long())\n",
    "test_loader = DataLoader(test_dataset, batch_size=batch_size, shuffle=True)\n",
    "\n",
    "# Variables for early stopping\n",
    "early_stopping_patience = 100\n",
    "best_loss = np.inf\n",
    "patience_counter = 0\n",
    "\n",
    "# Reset the early stopping patience\n",
    "patience_counter = 0\n",
    "best_loss = np.inf\n",
    "\n",
    "train_losses = []\n",
    "train_accuracies = []\n",
    "test_losses = []\n",
    "test_accuracies = []\n",
    "\n",
    "# Define the parameter grid for GridSearch\n",
    "param_grid = {\n",
    "    'lr': [0.00001, 0.0001, 0.001],\n",
    "    'weight_decay': [1e-4, 1e-3, 1e-2],\n",
    "    'batch_size': [8, 16, 32],\n",
    "    'num_epochs': [10, 20, 30],\n",
    "    'k':[16, 32, 64],\n",
    "    'l':[3, 5, 7]\n",
    "}\n",
    "grid = ParameterGrid(param_grid)\n",
    "best_params = None\n",
    "best_test_loss = np.inf\n",
    "\n",
    "\n",
    "for params in grid:\n",
    "  batch_size = params['batch_size']\n",
    "  num_epochs = params['num_epochs']\n",
    "  model = VectorAutoregressiveCNN(input_channels, params['k'], params['l'], n_classes)\n",
    "  optimizer = Adam(model.parameters(), lr=params['lr'])\n",
    "  model.to(device)\n",
    "\n",
    "  for epoch in range(num_epochs):\n",
    "    #print(f\"Epoch {epoch + 1}\")\n",
    "\n",
    "    train_loss = 0.0\n",
    "    correct_predictions = 0\n",
    "    total_predictions = 0\n",
    "\n",
    "    # Training \n",
    "    model.train()\n",
    "    for batch_idx, (data, target) in enumerate(train_loader):\n",
    "        data, target = data.to(device), target.to(device)\n",
    "        optimizer.zero_grad()\n",
    "        output = model(data)\n",
    "        loss = loss_function(output, target) + model.l1_regularization()\n",
    "        loss.backward()\n",
    "        optimizer.step()\n",
    "\n",
    "        train_loss += loss.item()\n",
    "\n",
    "        # Curr Accuracy\n",
    "        _, predicted = torch.max(output.data, 1)\n",
    "        total_predictions += target.size(0)\n",
    "        correct_predictions += (predicted == target).sum().item() \n",
    "\n",
    "    # Average loss and accuracy over the epoch\n",
    "    train_loss /= len(dataset)\n",
    "    train_accuracy = correct_predictions / total_predictions \n",
    "\n",
    "    #print(f\"Training loss: {train_loss}, Training accuracy: {train_accuracy}\")          \n",
    "\n",
    "    # Validation \n",
    "    model.eval()\n",
    "    test_loss = 0.0\n",
    "    correct_predictions = 0\n",
    "    total_predictions = 0\n",
    "    with torch.no_grad():\n",
    "        for data, target in test_loader:\n",
    "            data, target = data.to(device), target.to(device)\n",
    "            output = model(data)\n",
    "            test_loss += loss_function(output, target).item()  # Sum up batch loss\n",
    "\n",
    "            # Curr Accuracy\n",
    "            _, predicted = torch.max(output.data, 1)\n",
    "            total_predictions += target.size(0)\n",
    "            correct_predictions += (predicted == target).sum().item()\n",
    "\n",
    "\n",
    "    test_loss /= len(test_loader.dataset)  # Get the average loss\n",
    "    test_accuracy = correct_predictions / total_predictions\n",
    "    \n",
    "    # print(f\"Test loss: {test_loss}, Test accuracy: {test_accuracy}\")\n",
    "    # train_losses.append(train_loss)\n",
    "    # train_accuracies.append(train_accuracy)\n",
    "    # test_losses.append(test_loss)\n",
    "    # test_accuracies.append(test_accuracy)\n",
    "\n",
    "    # Early stopping logic\n",
    "    if test_loss < best_loss:\n",
    "        # print(f\"For params: {params}\")\n",
    "        # print(f\"Training loss: {train_loss}, Training accuracy: {train_accuracy}\") \n",
    "        # print(f\"Test loss: {test_loss}, Test accuracy: {test_accuracy}\")\n",
    "        patience_counter = 0\n",
    "        best_params = params\n",
    "        #save the model \n",
    "        checkpoint = {\n",
    "            'model_state_dict': model.state_dict(),\n",
    "            'optimizer_state_dict': optimizer.state_dict(),\n",
    "            'epoch': epoch,\n",
    "            'best_loss': best_loss,\n",
    "            'best_accuracy': test_accuracy}\n",
    "        torch.save(checkpoint, f'cnn_checkpoint.pt')\n",
    "        #print(f\"Checkpoint saved at epoch {epoch}\")\n",
    "    else:\n",
    "        patience_counter += 1\n",
    "        if patience_counter >= early_stopping_patience:\n",
    "            #print(\"Early stopping triggered.\")\n",
    "            break\n",
    "\n",
    "# Print the best parameters after the loop\n",
    "print(f\"Best Hyperparameters: {best_params}, Training loss: {train_loss}, Testing loss: {test_loss}, Training accuracy: {train_accuracy}, Testing accuracy: {test_accuracy}\")"
   ]
  },
  {
   "cell_type": "markdown",
   "metadata": {},
   "source": [
    "## Plot performance\n",
    "\n",
    "training acc = val acc that's why there's only one line in plot 2"
   ]
  },
  {
   "cell_type": "code",
   "execution_count": 44,
   "metadata": {},
   "outputs": [
    {
     "data": {
      "image/png": "[encoded data removed]",
      "text/plain": [
       "<Figure size 1000x500 with 2 Axes>"
      ]
     },
     "metadata": {},
     "output_type": "display_data"
    }
   ],
   "source": [
    "import matplotlib.pyplot as plt\n",
    "\n",
    "epochs = range(1, len(train_losses) + 1)\n",
    "\n",
    "# Plot Training and Validation Loss\n",
    "plt.figure(figsize=(10, 5))\n",
    "plt.subplot(1, 2, 1)\n",
    "plt.plot(epochs, train_losses, label='Training')\n",
    "plt.plot(epochs, val_losses, label='Validation')\n",
    "plt.title('Loss')\n",
    "plt.xlabel('Epoch')\n",
    "plt.ylabel('Loss')\n",
    "plt.legend()\n",
    "\n",
    "# Plot Validation Accuracy\n",
    "plt.subplot(1, 2, 2)\n",
    "plt.plot(epochs, train_accuracies, label='Training')\n",
    "plt.plot(epochs, val_accuracies, label='Validation')\n",
    "plt.title('Accuracy')\n",
    "plt.xlabel('Epoch')\n",
    "plt.ylabel('Accuracy')\n",
    "plt.legend()\n",
    "\n",
    "plt.tight_layout()\n",
    "plt.show()"
   ]
  },
  {
   "cell_type": "markdown",
   "metadata": {},
   "source": [
    "#### Further Training (optional)\n",
    "\n",
    "Load the model checkpoint"
   ]
  },
  {
   "cell_type": "code",
   "execution_count": null,
   "metadata": {},
   "outputs": [],
   "source": [
    "model = VectorAutoregressiveCNN(input_channels, k, l, n_classes)\n",
    "optimizer = torch.optim.Adam(model.parameters(), lr=3e-4)\n",
    "\n",
    "# Load the model and optimizer state_dict\n",
    "checkpoint = torch.load('cnn_checkpoint.pth')\n",
    "model.load_state_dict(checkpoint['model_state_dict'])\n",
    "optimizer.load_state_dict(checkpoint['optimizer_state_dict'])\n",
    "\n",
    "epoch = checkpoint['epoch']\n",
    "loss = checkpoint['loss']\n",
    "\n",
    "model.eval()  # For inference\n",
    "model.train()  # For further training"
   ]
  }
 ],
 "metadata": {
  "kernelspec": {
   "display_name": "pattern",
   "language": "python",
   "name": "python3"
  },
  "language_info": {
   "codemirror_mode": {
    "name": "ipython",
    "version": 3
   },
   "file_extension": ".py",
   "mimetype": "text/x-python",
   "name": "python",
   "nbconvert_exporter": "python",
   "pygments_lexer": "ipython3",
   "version": "3.10.11"
  }
 },
 "nbformat": 4,
 "nbformat_minor": 2
}
